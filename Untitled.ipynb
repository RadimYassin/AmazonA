{
 "cells": [
  {
   "cell_type": "code",
   "execution_count": 1,
   "id": "f951eec0-5dbe-4ac9-a4ab-d98c670b33a2",
   "metadata": {},
   "outputs": [],
   "source": [
    "import pandas as pd"
   ]
  },
  {
   "cell_type": "code",
   "execution_count": 2,
   "id": "d86e9714-cdd2-45a9-beaa-a4514207cd39",
   "metadata": {},
   "outputs": [
    {
     "data": {
      "text/html": [
       "<div>\n",
       "<style scoped>\n",
       "    .dataframe tbody tr th:only-of-type {\n",
       "        vertical-align: middle;\n",
       "    }\n",
       "\n",
       "    .dataframe tbody tr th {\n",
       "        vertical-align: top;\n",
       "    }\n",
       "\n",
       "    .dataframe thead th {\n",
       "        text-align: right;\n",
       "    }\n",
       "</style>\n",
       "<table border=\"1\" class=\"dataframe\">\n",
       "  <thead>\n",
       "    <tr style=\"text-align: right;\">\n",
       "      <th></th>\n",
       "      <th>show_id</th>\n",
       "      <th>type</th>\n",
       "      <th>title</th>\n",
       "      <th>director</th>\n",
       "      <th>cast</th>\n",
       "      <th>country</th>\n",
       "      <th>date_added</th>\n",
       "      <th>release_year</th>\n",
       "      <th>rating</th>\n",
       "      <th>duration</th>\n",
       "      <th>listed_in</th>\n",
       "      <th>description</th>\n",
       "    </tr>\n",
       "  </thead>\n",
       "  <tbody>\n",
       "    <tr>\n",
       "      <th>0</th>\n",
       "      <td>s1</td>\n",
       "      <td>Movie</td>\n",
       "      <td>The Grand Seduction</td>\n",
       "      <td>Don McKellar</td>\n",
       "      <td>Brendan Gleeson, Taylor Kitsch, Gordon Pinsent</td>\n",
       "      <td>Canada</td>\n",
       "      <td>March 30, 2021</td>\n",
       "      <td>2014</td>\n",
       "      <td>NaN</td>\n",
       "      <td>113 min</td>\n",
       "      <td>Comedy, Drama</td>\n",
       "      <td>A small fishing village must procure a local d...</td>\n",
       "    </tr>\n",
       "    <tr>\n",
       "      <th>1</th>\n",
       "      <td>s2</td>\n",
       "      <td>Movie</td>\n",
       "      <td>Take Care Good Night</td>\n",
       "      <td>Girish Joshi</td>\n",
       "      <td>Mahesh Manjrekar, Abhay Mahajan, Sachin Khedekar</td>\n",
       "      <td>India</td>\n",
       "      <td>March 30, 2021</td>\n",
       "      <td>2018</td>\n",
       "      <td>13+</td>\n",
       "      <td>110 min</td>\n",
       "      <td>Drama, International</td>\n",
       "      <td>A Metro Family decides to fight a Cyber Crimin...</td>\n",
       "    </tr>\n",
       "    <tr>\n",
       "      <th>2</th>\n",
       "      <td>s3</td>\n",
       "      <td>Movie</td>\n",
       "      <td>Secrets of Deception</td>\n",
       "      <td>Josh Webber</td>\n",
       "      <td>Tom Sizemore, Lorenzo Lamas, Robert LaSardo, R...</td>\n",
       "      <td>United States</td>\n",
       "      <td>March 30, 2021</td>\n",
       "      <td>2017</td>\n",
       "      <td>NaN</td>\n",
       "      <td>74 min</td>\n",
       "      <td>Action, Drama, Suspense</td>\n",
       "      <td>After a man discovers his wife is cheating on ...</td>\n",
       "    </tr>\n",
       "    <tr>\n",
       "      <th>3</th>\n",
       "      <td>s4</td>\n",
       "      <td>Movie</td>\n",
       "      <td>Pink: Staying True</td>\n",
       "      <td>Sonia Anderson</td>\n",
       "      <td>Interviews with: Pink, Adele, Beyoncé, Britney...</td>\n",
       "      <td>United States</td>\n",
       "      <td>March 30, 2021</td>\n",
       "      <td>2014</td>\n",
       "      <td>NaN</td>\n",
       "      <td>69 min</td>\n",
       "      <td>Documentary</td>\n",
       "      <td>Pink breaks the mold once again, bringing her ...</td>\n",
       "    </tr>\n",
       "    <tr>\n",
       "      <th>4</th>\n",
       "      <td>s5</td>\n",
       "      <td>Movie</td>\n",
       "      <td>Monster Maker</td>\n",
       "      <td>Giles Foster</td>\n",
       "      <td>Harry Dean Stanton, Kieran O'Brien, George Cos...</td>\n",
       "      <td>United Kingdom</td>\n",
       "      <td>March 30, 2021</td>\n",
       "      <td>1989</td>\n",
       "      <td>NaN</td>\n",
       "      <td>45 min</td>\n",
       "      <td>Drama, Fantasy</td>\n",
       "      <td>Teenage Matt Banting wants to work with a famo...</td>\n",
       "    </tr>\n",
       "    <tr>\n",
       "      <th>...</th>\n",
       "      <td>...</td>\n",
       "      <td>...</td>\n",
       "      <td>...</td>\n",
       "      <td>...</td>\n",
       "      <td>...</td>\n",
       "      <td>...</td>\n",
       "      <td>...</td>\n",
       "      <td>...</td>\n",
       "      <td>...</td>\n",
       "      <td>...</td>\n",
       "      <td>...</td>\n",
       "      <td>...</td>\n",
       "    </tr>\n",
       "    <tr>\n",
       "      <th>9663</th>\n",
       "      <td>s9664</td>\n",
       "      <td>Movie</td>\n",
       "      <td>Pride Of The Bowery</td>\n",
       "      <td>Joseph H. Lewis</td>\n",
       "      <td>Leo Gorcey, Bobby Jordan</td>\n",
       "      <td>NaN</td>\n",
       "      <td>NaN</td>\n",
       "      <td>1940</td>\n",
       "      <td>7+</td>\n",
       "      <td>60 min</td>\n",
       "      <td>Comedy</td>\n",
       "      <td>New York City street principles get an East Si...</td>\n",
       "    </tr>\n",
       "    <tr>\n",
       "      <th>9664</th>\n",
       "      <td>s9665</td>\n",
       "      <td>TV Show</td>\n",
       "      <td>Planet Patrol</td>\n",
       "      <td>NaN</td>\n",
       "      <td>DICK VOSBURGH, RONNIE STEVENS, LIBBY MORRIS, M...</td>\n",
       "      <td>NaN</td>\n",
       "      <td>NaN</td>\n",
       "      <td>2018</td>\n",
       "      <td>13+</td>\n",
       "      <td>4 Seasons</td>\n",
       "      <td>TV Shows</td>\n",
       "      <td>This is Earth, 2100AD - and these are the adve...</td>\n",
       "    </tr>\n",
       "    <tr>\n",
       "      <th>9665</th>\n",
       "      <td>s9666</td>\n",
       "      <td>Movie</td>\n",
       "      <td>Outpost</td>\n",
       "      <td>Steve Barker</td>\n",
       "      <td>Ray Stevenson, Julian Wadham, Richard Brake, M...</td>\n",
       "      <td>NaN</td>\n",
       "      <td>NaN</td>\n",
       "      <td>2008</td>\n",
       "      <td>R</td>\n",
       "      <td>90 min</td>\n",
       "      <td>Action</td>\n",
       "      <td>In war-torn Eastern Europe, a world-weary grou...</td>\n",
       "    </tr>\n",
       "    <tr>\n",
       "      <th>9666</th>\n",
       "      <td>s9667</td>\n",
       "      <td>TV Show</td>\n",
       "      <td>Maradona: Blessed Dream</td>\n",
       "      <td>NaN</td>\n",
       "      <td>Esteban Recagno, Ezequiel Stremiz, Luciano Vit...</td>\n",
       "      <td>NaN</td>\n",
       "      <td>NaN</td>\n",
       "      <td>2021</td>\n",
       "      <td>TV-MA</td>\n",
       "      <td>1 Season</td>\n",
       "      <td>Drama, Sports</td>\n",
       "      <td>The series tells the story of Diego Maradona, ...</td>\n",
       "    </tr>\n",
       "    <tr>\n",
       "      <th>9667</th>\n",
       "      <td>s9668</td>\n",
       "      <td>Movie</td>\n",
       "      <td>Harry Brown</td>\n",
       "      <td>Daniel Barber</td>\n",
       "      <td>Michael Caine, Emily Mortimer, Joseph Gilgun, ...</td>\n",
       "      <td>NaN</td>\n",
       "      <td>NaN</td>\n",
       "      <td>2010</td>\n",
       "      <td>R</td>\n",
       "      <td>103 min</td>\n",
       "      <td>Action, Drama, Suspense</td>\n",
       "      <td>Harry Brown, starring two-time Academy Award w...</td>\n",
       "    </tr>\n",
       "  </tbody>\n",
       "</table>\n",
       "<p>9668 rows × 12 columns</p>\n",
       "</div>"
      ],
      "text/plain": [
       "     show_id     type                    title         director  \\\n",
       "0         s1    Movie      The Grand Seduction     Don McKellar   \n",
       "1         s2    Movie     Take Care Good Night     Girish Joshi   \n",
       "2         s3    Movie     Secrets of Deception      Josh Webber   \n",
       "3         s4    Movie       Pink: Staying True   Sonia Anderson   \n",
       "4         s5    Movie            Monster Maker     Giles Foster   \n",
       "...      ...      ...                      ...              ...   \n",
       "9663   s9664    Movie      Pride Of The Bowery  Joseph H. Lewis   \n",
       "9664   s9665  TV Show            Planet Patrol              NaN   \n",
       "9665   s9666    Movie                  Outpost     Steve Barker   \n",
       "9666   s9667  TV Show  Maradona: Blessed Dream              NaN   \n",
       "9667   s9668    Movie              Harry Brown    Daniel Barber   \n",
       "\n",
       "                                                   cast         country  \\\n",
       "0        Brendan Gleeson, Taylor Kitsch, Gordon Pinsent          Canada   \n",
       "1      Mahesh Manjrekar, Abhay Mahajan, Sachin Khedekar           India   \n",
       "2     Tom Sizemore, Lorenzo Lamas, Robert LaSardo, R...   United States   \n",
       "3     Interviews with: Pink, Adele, Beyoncé, Britney...   United States   \n",
       "4     Harry Dean Stanton, Kieran O'Brien, George Cos...  United Kingdom   \n",
       "...                                                 ...             ...   \n",
       "9663                           Leo Gorcey, Bobby Jordan             NaN   \n",
       "9664  DICK VOSBURGH, RONNIE STEVENS, LIBBY MORRIS, M...             NaN   \n",
       "9665  Ray Stevenson, Julian Wadham, Richard Brake, M...             NaN   \n",
       "9666  Esteban Recagno, Ezequiel Stremiz, Luciano Vit...             NaN   \n",
       "9667  Michael Caine, Emily Mortimer, Joseph Gilgun, ...             NaN   \n",
       "\n",
       "          date_added  release_year rating   duration                listed_in  \\\n",
       "0     March 30, 2021          2014    NaN    113 min            Comedy, Drama   \n",
       "1     March 30, 2021          2018    13+    110 min     Drama, International   \n",
       "2     March 30, 2021          2017    NaN     74 min  Action, Drama, Suspense   \n",
       "3     March 30, 2021          2014    NaN     69 min              Documentary   \n",
       "4     March 30, 2021          1989    NaN     45 min           Drama, Fantasy   \n",
       "...              ...           ...    ...        ...                      ...   \n",
       "9663             NaN          1940     7+     60 min                   Comedy   \n",
       "9664             NaN          2018    13+  4 Seasons                 TV Shows   \n",
       "9665             NaN          2008      R     90 min                   Action   \n",
       "9666             NaN          2021  TV-MA   1 Season            Drama, Sports   \n",
       "9667             NaN          2010      R    103 min  Action, Drama, Suspense   \n",
       "\n",
       "                                            description  \n",
       "0     A small fishing village must procure a local d...  \n",
       "1     A Metro Family decides to fight a Cyber Crimin...  \n",
       "2     After a man discovers his wife is cheating on ...  \n",
       "3     Pink breaks the mold once again, bringing her ...  \n",
       "4     Teenage Matt Banting wants to work with a famo...  \n",
       "...                                                 ...  \n",
       "9663  New York City street principles get an East Si...  \n",
       "9664  This is Earth, 2100AD - and these are the adve...  \n",
       "9665  In war-torn Eastern Europe, a world-weary grou...  \n",
       "9666  The series tells the story of Diego Maradona, ...  \n",
       "9667  Harry Brown, starring two-time Academy Award w...  \n",
       "\n",
       "[9668 rows x 12 columns]"
      ]
     },
     "execution_count": 2,
     "metadata": {},
     "output_type": "execute_result"
    }
   ],
   "source": [
    "# Ce code utilise la bibliothèque pandas pour lire un fichier CSV nommé amazon.csv et stocker les données dans un DataFrame nommé amazon_df\n",
    "amazon_df = pd.read_csv('amazon.csv')\n",
    "amazon_df"
   ]
  },
  {
   "cell_type": "code",
   "execution_count": 36,
   "id": "28563364-4fc0-410e-929c-e1be78d9a33d",
   "metadata": {},
   "outputs": [
    {
     "name": "stdout",
     "output_type": "stream",
     "text": [
      "     show_id   type                            title     director  \\\n",
      "3850   s3851  Movie  Himalayan Singing Bowls 9 hours  Mark Knight   \n",
      "\n",
      "                        cast country date_added  release_year rating  \\\n",
      "3850  Niv Dayan, Sarah Lærke     NaN        NaN          2017    ALL   \n",
      "\n",
      "      duration         listed_in  \\\n",
      "3850       550  Special Interest   \n",
      "\n",
      "                                            description  cluster  \n",
      "3850  This ambient sleep and meditation video is a f...        5  \n"
     ]
    }
   ],
   "source": [
    "#créer un nouveau DataFrame nommé df_trie_par_duree qui contient les lignes de amazon_df triées par ordre décroissant en fonction des valeurs de la colonne 'duration'.\n",
    "df_sorted_by_duration = amazon_df.sort_values(by='duration', ascending=False)\n",
    "\n",
    "# extrait la durée maximale à partir du DataFrame trié\n",
    "max_duration = df_sorted_by_duration.iloc[0]['duration']\n",
    "\n",
    "# Filtrer les films qui ont la plus grande durée\n",
    "movies_with_max_duration = df_sorted_by_duration[df_sorted_by_duration['duration'] == max_duration]\n",
    "\n",
    "# Afficher les résultats\n",
    "print(movies_with_max_duration)"
   ]
  },
  {
   "cell_type": "code",
   "execution_count": 35,
   "id": "19f3be1b-44a9-4ebb-a7d9-b4de3841259c",
   "metadata": {},
   "outputs": [
    {
     "name": "stdout",
     "output_type": "stream",
     "text": [
      "     show_id   type                title        director  \\\n",
      "1284   s1285  Movie            Pollyanna     Paul Powell   \n",
      "1474   s1475  Movie  Nomads Of The North  David Hartford   \n",
      "83       s84  Movie     Within Our Gates  Oscar Micheaux   \n",
      "1425   s1426  Movie   One Exciting Night   D.W. Griffith   \n",
      "1143   s1144  Movie  Robin Hood (Silent)      Allan Dwan   \n",
      "\n",
      "                                                   cast country date_added  \\\n",
      "1284  Mary Pickford, Wharton James, Katherine Griffi...     NaN        NaN   \n",
      "1474                           Betty Blythe, Lon Chaney     NaN        NaN   \n",
      "83                           Evelyn Preer, Flo Clements     NaN        NaN   \n",
      "1425                         Carol Dempster, Henry Hull     NaN        NaN   \n",
      "1143  Douglas Fairbanks Sr., Enid Bennett, Wallace B...     NaN        NaN   \n",
      "\n",
      "      release_year rating  duration            listed_in  \\\n",
      "1284          1920     NR        60  Comedy, Drama, Kids   \n",
      "1474          1920    13+        78                Drama   \n",
      "83            1920    13+        78                Drama   \n",
      "1425          1922    13+       145             Suspense   \n",
      "1143          1922    13+       121               Action   \n",
      "\n",
      "                                            description  cluster  \n",
      "1284  When Pollyanna is orphaned, she is sent to liv...        2  \n",
      "1474  A Canadian Mountie allows an innocent fugitive...        4  \n",
      "83    Abandoned by her fiance, an educated negro wom...        4  \n",
      "1425  A young orphan girl, courted by an unpleasant ...        3  \n",
      "1143  Amid big-budget medieval pageantry, King Richa...        1  \n"
     ]
    }
   ],
   "source": [
    "# Trier les données en fonction de l'année de sortie dans l'ordre croissant\n",
    "oldest_movies = amazon_df.sort_values(by='release_year', ascending=True)\n",
    "\n",
    "# Sélectionner les cinq premières lignes pour obtenir les cinq films les plus anciens\n",
    "top_5_oldest_movies = oldest_movies.head(5)\n",
    "\n",
    "# Afficher les résultats\n",
    "print(top_5_oldest_movies)"
   ]
  },
  {
   "cell_type": "markdown",
   "id": "e3700bac-ffdf-45d0-86c5-35a7fc6657b5",
   "metadata": {},
   "source": [
    "TOP 5 DES MEILLEURES CATEGORIES"
   ]
  },
  {
   "cell_type": "code",
   "execution_count": 3,
   "id": "f79bbbf2-f9a8-4f2d-a546-3db71e85c4f0",
   "metadata": {},
   "outputs": [
    {
     "name": "stdout",
     "output_type": "stream",
     "text": [
      "genre\n",
      "Drama        2216\n",
      "Action       1657\n",
      "Comedy       1475\n",
      " Drama       1471\n",
      " Suspense    1307\n",
      "Name: count, dtype: int64\n"
     ]
    }
   ],
   "source": [
    "#Ce code permet de transformer la colonne 'listed_in' de votre DataFrame amazon_df en un nouveau DataFrame contenant uniquement les genres et en supprimant les doublons\n",
    "genres_df = amazon_df['listed_in'].str.split(',', expand=True).stack().reset_index(level=1, drop=True).to_frame('genre')\n",
    "\n",
    "# calcule le nombre d'occurrences de chaque genre unique dans le DataFrame genres_df.\n",
    "genre_counts = genres_df['genre'].value_counts()\n",
    "\n",
    "# Display the top 5 genres\n",
    "print(genre_counts.head(5))"
   ]
  },
  {
   "cell_type": "markdown",
   "id": "ebd20843-47f3-4ac0-9afd-b4c1721d2a65",
   "metadata": {},
   "source": [
    "TOP 5 DES REALISATEURS"
   ]
  },
  {
   "cell_type": "code",
   "execution_count": 4,
   "id": "0b723547-703b-4904-b833-9bd286c9f645",
   "metadata": {},
   "outputs": [
    {
     "name": "stdout",
     "output_type": "stream",
     "text": [
      "director\n",
      "Mark Knight              113\n",
      "Cannis Holder             61\n",
      "Moonbug Entertainment     37\n",
      "Jay Chapman               34\n",
      "Arthur van Merwijk        30\n",
      "Name: count, dtype: int64\n"
     ]
    }
   ],
   "source": [
    "# extrait les noms de réalisateurs du DataFrame amazon_df et les organise dans un nouveau DataFrame nommé directors_df.\n",
    "directors_df = amazon_df['director'].str.split('\\n', expand=True).stack().reset_index(level=1, drop=True).to_frame('director')\n",
    "\n",
    "# calcule le nombre d'apparitions de chaque réalisateur dans le DataFrame directors_df.\n",
    "director_counts = directors_df['director'].value_counts()\n",
    "\n",
    "# Display the top 5 directors\n",
    "print(director_counts.head(5))"
   ]
  },
  {
   "cell_type": "markdown",
   "id": "820b4a94-33f9-4d2e-8732-b0ccf730a78e",
   "metadata": {},
   "source": [
    "LES 10 MEILLEURS ACTEURS"
   ]
  },
  {
   "cell_type": "code",
   "execution_count": 6,
   "id": "8c3fc008-38a5-4008-a284-658e8c3a4220",
   "metadata": {},
   "outputs": [
    {
     "name": "stdout",
     "output_type": "stream",
     "text": [
      "actor\n",
      "Maggie Binkley        56\n",
      "1                     35\n",
      "Gene Autry            32\n",
      " Nassar               30\n",
      " Champion             29\n",
      "Anne-Marie Newland    25\n",
      " Prakash Raj          23\n",
      "Roy Rogers            23\n",
      "Cassandra Peterson    22\n",
      "John Wayne            21\n",
      "Name: count, dtype: int64\n"
     ]
    }
   ],
   "source": [
    "# Drop rows with NaN values in 'cast' column\n",
    "amazon_df.dropna(subset=['cast'], inplace=True)\n",
    "\n",
    "actors_df = pd.DataFrame(amazon_df['cast'].str.split(',').tolist(), index=amazon_df['show_id']).stack()\n",
    "actors_df = actors_df.reset_index([0, 'show_id'])\n",
    "actors_df.columns = ['show_id', 'actor']\n",
    "\n",
    "# Count the number of times each actor appears\n",
    "actor_counts = actors_df['actor'].value_counts()\n",
    "\n",
    "# Display top 10 actors\n",
    "print(actor_counts.head(10))"
   ]
  },
  {
   "cell_type": "markdown",
   "id": "51408fe6-fd70-48f0-b3a0-64b5bf7bf643",
   "metadata": {},
   "source": [
    "Les cinq meilleures séries télévisées avec le plus grand nombre de saisons."
   ]
  },
  {
   "cell_type": "code",
   "execution_count": 7,
   "id": "3ee83cd6-715c-4c9c-8c5f-b56b830e2463",
   "metadata": {},
   "outputs": [],
   "source": [
    "amazon_df['duration'] = amazon_df['duration'].str.extract('(\\d+)')"
   ]
  },
  {
   "cell_type": "code",
   "execution_count": 8,
   "id": "13ac9fbc-f86e-4f2a-aebb-1207a0b8bc59",
   "metadata": {},
   "outputs": [],
   "source": [
    "amazon_df['duration']=pd.to_numeric(amazon_df['duration'])"
   ]
  },
  {
   "cell_type": "code",
   "execution_count": 9,
   "id": "5e4079cc-0ac3-44fb-9e27-09e895b592a0",
   "metadata": {},
   "outputs": [
    {
     "name": "stdout",
     "output_type": "stream",
     "text": [
      "<class 'pandas.core.frame.DataFrame'>\n",
      "Index: 8435 entries, 0 to 9667\n",
      "Data columns (total 12 columns):\n",
      " #   Column        Non-Null Count  Dtype \n",
      "---  ------        --------------  ----- \n",
      " 0   show_id       8435 non-null   object\n",
      " 1   type          8435 non-null   object\n",
      " 2   title         8435 non-null   object\n",
      " 3   director      6951 non-null   object\n",
      " 4   cast          8435 non-null   object\n",
      " 5   country       655 non-null    object\n",
      " 6   date_added    108 non-null    object\n",
      " 7   release_year  8435 non-null   int64 \n",
      " 8   rating        8123 non-null   object\n",
      " 9   duration      8435 non-null   int64 \n",
      " 10  listed_in     8435 non-null   object\n",
      " 11  description   8435 non-null   object\n",
      "dtypes: int64(2), object(10)\n",
      "memory usage: 856.7+ KB\n"
     ]
    }
   ],
   "source": [
    "amazon_df.info()"
   ]
  },
  {
   "cell_type": "code",
   "execution_count": 10,
   "id": "7b9752e7-0a3e-48fa-8db1-452feb06bcb4",
   "metadata": {},
   "outputs": [
    {
     "data": {
      "text/plain": [
       "title\n",
       "The Amazing Race            29\n",
       "Silent Witness              21\n",
       "Survivor                    19\n",
       "Top Gear (UK)               15\n",
       "America's Next Top Model    14\n",
       "Name: duration, dtype: int64"
      ]
     },
     "execution_count": 10,
     "metadata": {},
     "output_type": "execute_result"
    }
   ],
   "source": [
    "tv_series_df = amazon_df[amazon_df['type'] == 'TV Show']\n",
    "tv_series_grouped = tv_series_df.groupby('title')['duration'].sum()\n",
    "\n",
    "# Sort the results by the total number of seasons and select the top five\n",
    "top_five_series = tv_series_grouped.sort_values(ascending=False)\n",
    "top_five_series.head(5)"
   ]
  },
  {
   "cell_type": "markdown",
   "id": "3392476b-b8b1-4202-9193-5b13b516622e",
   "metadata": {},
   "source": [
    "Contenu similaire :"
   ]
  },
  {
   "cell_type": "code",
   "execution_count": 12,
   "id": "8a44d34c-b09b-4062-91e4-4f4491ffcec2",
   "metadata": {},
   "outputs": [
    {
     "name": "stderr",
     "output_type": "stream",
     "text": [
      "C:\\Users\\Marouane Mechach\\anaconda3\\Lib\\site-packages\\sklearn\\cluster\\_kmeans.py:870: FutureWarning: The default value of `n_init` will change from 10 to 'auto' in 1.4. Set the value of `n_init` explicitly to suppress the warning\n",
      "  warnings.warn(\n"
     ]
    },
    {
     "name": "stdout",
     "output_type": "stream",
     "text": [
      "cluster\n",
      "1    5636\n",
      "2    2744\n",
      "0      55\n",
      "Name: count, dtype: int64\n",
      "Top entries in cluster 0:\n",
      "3529: 15-Minute Legs & Booty Sculpt 9.0 Workout (with weights) (Movie, 2020)\n",
      "3542: 15-Minute Core Challenge 9.0 Workout (with weights) (Movie, 2020)\n",
      "3939: 15-Minute HIIT 9.0 (tabata workout with weights) (Movie, 2020)\n",
      "3938: 15-Minute Total Body Shred 9.0 Workout (with weights) (Movie, 2020)\n",
      "3654: 15-Minute Upper Body Chisel 9.0 Workout (with weights) (Movie, 2020)\n",
      "\n",
      "\n",
      "Top entries in cluster 1:\n",
      "9666: Maradona: Blessed Dream (TV Show, 2021)\n",
      "6244: Ester Steinberg: Burning Bush (Movie, 2021)\n",
      "6163: Cut the Rope: Learn Spanish with Om Nom (Volume 1) (Movie, 2021)\n",
      "6164: Cut the Rope: Learn Italian with Om Nom (Volume 1) (Movie, 2021)\n",
      "6165: Christmas Songs for Kids - LooLoo Kids (Movie, 2021)\n",
      "\n",
      "\n",
      "Top entries in cluster 2:\n",
      "6851: Kenneth Copeland 2021 (TV Show, 2021)\n",
      "2823: Clifford the Big Red Dog (TV Show, 2021)\n",
      "8544: I Pray For Love (Movie, 2021)\n",
      "5870: A I 1.O (Movie, 2021)\n",
      "5865: Back to Gaya (Movie, 2021)\n",
      "\n",
      "\n"
     ]
    }
   ],
   "source": [
    "import pandas as pd\n",
    "from sklearn.feature_extraction.text import TfidfVectorizer\n",
    "from sklearn.metrics.pairwise import cosine_similarity\n",
    "from sklearn.cluster import KMeans\n",
    "# Preprocess the text\n",
    "tfidf = TfidfVectorizer(stop_words='english')\n",
    "amazon_df['description'] = amazon_df['description'].fillna('')\n",
    "tfidf_matrix = tfidf.fit_transform(amazon_df['description'])\n",
    "\n",
    "# Compute similarity scores\n",
    "similarity_matrix = cosine_similarity(tfidf_matrix, tfidf_matrix)\n",
    "\n",
    "# Cluster similar entries\n",
    "num_clusters = 3\n",
    "km = KMeans(n_clusters=num_clusters)\n",
    "km.fit(similarity_matrix)\n",
    "\n",
    "# Add the cluster labels to the dataset\n",
    "clusters = km.labels_.tolist()\n",
    "amazon_df['cluster'] = clusters\n",
    "\n",
    "# Print the number of entries in each cluster\n",
    "print(amazon_df['cluster'].value_counts())\n",
    "\n",
    "# Print the top movies and TV shows in each cluster\n",
    "for i in range(num_clusters):\n",
    "    cluster_df = amazon_df[amazon_df['cluster'] == i]\n",
    "    top_entries = cluster_df.sort_values(['release_year'], ascending=False).head(5)\n",
    "    print(f\"Top entries in cluster {i}:\")\n",
    "    for j, row in top_entries.iterrows():\n",
    "        print(f\"{j}: {row['title']} ({row['type']}, {row['release_year']})\")\n",
    "    print('\\n')"
   ]
  },
  {
   "cell_type": "code",
   "execution_count": 13,
   "id": "263cb150-dcbd-434a-8741-5b3ab2832099",
   "metadata": {},
   "outputs": [
    {
     "data": {
      "text/plain": [
       "0       1\n",
       "1       1\n",
       "2       2\n",
       "3       1\n",
       "4       2\n",
       "       ..\n",
       "9663    1\n",
       "9664    1\n",
       "9665    1\n",
       "9666    1\n",
       "9667    2\n",
       "Name: cluster, Length: 8435, dtype: int64"
      ]
     },
     "execution_count": 13,
     "metadata": {},
     "output_type": "execute_result"
    }
   ],
   "source": [
    "amazon_df['cluster']"
   ]
  },
  {
   "cell_type": "code",
   "execution_count": 14,
   "id": "93f06fd5-fb22-40ff-b83a-4d98fd8a45ea",
   "metadata": {},
   "outputs": [
    {
     "name": "stderr",
     "output_type": "stream",
     "text": [
      "C:\\Users\\Marouane Mechach\\anaconda3\\Lib\\site-packages\\sklearn\\cluster\\_kmeans.py:870: FutureWarning: The default value of `n_init` will change from 10 to 'auto' in 1.4. Set the value of `n_init` explicitly to suppress the warning\n",
      "  warnings.warn(\n"
     ]
    },
    {
     "name": "stdout",
     "output_type": "stream",
     "text": [
      "cluster\n",
      "5    3410\n",
      "2    1372\n",
      "3    1335\n",
      "4     951\n",
      "1     716\n",
      "0     651\n",
      "Name: count, dtype: int64\n",
      "Top entries in cluster 0:\n",
      "1885: Legend (Movie, 2021,Documentary)\n",
      "6848: On Thin Ice (Movie, 2021,Documentary)\n",
      "5993: Inside Sportfishing (TV Show, 2021,Documentary, Sports)\n",
      "6083: Mary J. Blige’s My Life (Movie, 2021,Arts, Entertainment, and Culture, Documentary)\n",
      "6618: To Dine For with Kate Sullivan (TV Show, 2021,Documentary, Special Interest)\n",
      "\n",
      "\n",
      "Top entries in cluster 1:\n",
      "6101: Anu and Arjun(Kannada) (Movie, 2021,Action, Drama)\n",
      "7667: Spiked (Movie, 2021,Action, Drama)\n",
      "7863: Different (Movie, 2021,Action, Romance)\n",
      "4645: Neha (Movie, 2021,Action, Drama)\n",
      "4647: Mumbai Saga (Movie, 2021,Action, Drama)\n",
      "\n",
      "\n",
      "Top entries in cluster 2:\n",
      "6001: Rex Park: Curse of the Golden Buddha (Movie, 2021,Comedy)\n",
      "5078: Gaurav Gupta: Market Down Hai (Movie, 2021,Comedy)\n",
      "8532: Small Town Remedies (Movie, 2021,Comedy)\n",
      "8521: Songs for a Sloth (Movie, 2021,Comedy, Drama)\n",
      "8496: Charlotte Moon Mysteries - Green on the Greens (Movie, 2021,Comedy, Suspense)\n",
      "\n",
      "\n",
      "Top entries in cluster 3:\n",
      "5164: Unlawful Duties (Movie, 2021,Action, Drama, Suspense)\n",
      "8856: The Heritage Hunters Journey Through The Past (Movie, 2021,Drama, Horror, Suspense)\n",
      "5543: Deadly Passion (Movie, 2021,Drama, Suspense)\n",
      "8031: Ja (Telugu) (Movie, 2021,Drama, Horror, Suspense)\n",
      "6433: Butchers (Movie, 2021,Drama, Horror, Suspense)\n",
      "\n",
      "\n",
      "Top entries in cluster 4:\n",
      "1720: Master (Tamil) (Movie, 2021,Drama)\n",
      "5879: Meera Mathur (Movie, 2021,Drama)\n",
      "1717: Master (Telugu) [4K UHD] (Movie, 2021,Drama)\n",
      "1718: Master (Telugu) (Movie, 2021,Drama)\n",
      "1719: Master (Tamil) [4K UHD] (Movie, 2021,Drama)\n",
      "\n",
      "\n",
      "Top entries in cluster 5:\n",
      "9666: Maradona: Blessed Dream (TV Show, 2021,Drama, Sports)\n",
      "5391: Road Head (Movie, 2021,Horror)\n",
      "7224: Paralyzed (Movie, 2021,Special Interest)\n",
      "7216: Steve and Maggie - Sing and Shout (TV Show, 2021,Animation, Kids)\n",
      "7205: Dark State (Movie, 2021,Drama, Special Interest)\n",
      "\n",
      "\n"
     ]
    }
   ],
   "source": [
    "# Preprocess the text\n",
    "tfidf = TfidfVectorizer(stop_words='english')\n",
    "amazon_df['listed_in'] = amazon_df['listed_in'].fillna('')\n",
    "tfidf_matrix = tfidf.fit_transform(amazon_df['listed_in'])\n",
    "\n",
    "# Compute similarity scores\n",
    "similarity_matrix = cosine_similarity(tfidf_matrix, tfidf_matrix)\n",
    "\n",
    "# Cluster similar entries\n",
    "num_clusters = 6\n",
    "km = KMeans(n_clusters=num_clusters)\n",
    "km.fit(similarity_matrix)\n",
    "\n",
    "# Add the cluster labels to the dataset\n",
    "clusters = km.labels_.tolist()\n",
    "amazon_df['cluster'] = clusters\n",
    "\n",
    "# Print the number of entries in each cluster\n",
    "print(amazon_df['cluster'].value_counts())\n",
    "\n",
    "# Print the top movies and TV shows in each cluster\n",
    "for i in range(num_clusters):\n",
    "    cluster_df2 = amazon_df[amazon_df['cluster'] == i]\n",
    "    top_entries = cluster_df2.sort_values(['release_year'], ascending=False).head(5)\n",
    "    print(f\"Top entries in cluster {i}:\")\n",
    "    for j, row in top_entries.iterrows():\n",
    "        print(f\"{j}: {row['title']} ({row['type']}, {row['release_year']},{row['listed_in']})\")\n",
    "    print('\\n')"
   ]
  },
  {
   "cell_type": "code",
   "execution_count": 15,
   "id": "d47d77f2-e0d4-45ab-97dc-6644ced416a1",
   "metadata": {},
   "outputs": [
    {
     "data": {
      "text/html": [
       "<div>\n",
       "<style scoped>\n",
       "    .dataframe tbody tr th:only-of-type {\n",
       "        vertical-align: middle;\n",
       "    }\n",
       "\n",
       "    .dataframe tbody tr th {\n",
       "        vertical-align: top;\n",
       "    }\n",
       "\n",
       "    .dataframe thead th {\n",
       "        text-align: right;\n",
       "    }\n",
       "</style>\n",
       "<table border=\"1\" class=\"dataframe\">\n",
       "  <thead>\n",
       "    <tr style=\"text-align: right;\">\n",
       "      <th></th>\n",
       "      <th>release_year</th>\n",
       "      <th>duration</th>\n",
       "      <th>cluster</th>\n",
       "    </tr>\n",
       "  </thead>\n",
       "  <tbody>\n",
       "    <tr>\n",
       "      <th>count</th>\n",
       "      <td>8435.000000</td>\n",
       "      <td>8435.000000</td>\n",
       "      <td>8435.000000</td>\n",
       "    </tr>\n",
       "    <tr>\n",
       "      <th>mean</th>\n",
       "      <td>2007.454060</td>\n",
       "      <td>78.543331</td>\n",
       "      <td>3.357321</td>\n",
       "    </tr>\n",
       "    <tr>\n",
       "      <th>std</th>\n",
       "      <td>19.645431</td>\n",
       "      <td>43.859647</td>\n",
       "      <td>1.673102</td>\n",
       "    </tr>\n",
       "    <tr>\n",
       "      <th>min</th>\n",
       "      <td>1920.000000</td>\n",
       "      <td>0.000000</td>\n",
       "      <td>0.000000</td>\n",
       "    </tr>\n",
       "    <tr>\n",
       "      <th>25%</th>\n",
       "      <td>2005.000000</td>\n",
       "      <td>58.000000</td>\n",
       "      <td>2.000000</td>\n",
       "    </tr>\n",
       "    <tr>\n",
       "      <th>50%</th>\n",
       "      <td>2016.000000</td>\n",
       "      <td>89.000000</td>\n",
       "      <td>4.000000</td>\n",
       "    </tr>\n",
       "    <tr>\n",
       "      <th>75%</th>\n",
       "      <td>2019.000000</td>\n",
       "      <td>103.000000</td>\n",
       "      <td>5.000000</td>\n",
       "    </tr>\n",
       "    <tr>\n",
       "      <th>max</th>\n",
       "      <td>2021.000000</td>\n",
       "      <td>550.000000</td>\n",
       "      <td>5.000000</td>\n",
       "    </tr>\n",
       "  </tbody>\n",
       "</table>\n",
       "</div>"
      ],
      "text/plain": [
       "       release_year     duration      cluster\n",
       "count   8435.000000  8435.000000  8435.000000\n",
       "mean    2007.454060    78.543331     3.357321\n",
       "std       19.645431    43.859647     1.673102\n",
       "min     1920.000000     0.000000     0.000000\n",
       "25%     2005.000000    58.000000     2.000000\n",
       "50%     2016.000000    89.000000     4.000000\n",
       "75%     2019.000000   103.000000     5.000000\n",
       "max     2021.000000   550.000000     5.000000"
      ]
     },
     "execution_count": 15,
     "metadata": {},
     "output_type": "execute_result"
    }
   ],
   "source": [
    "amazon_df.describe()"
   ]
  },
  {
   "cell_type": "markdown",
   "id": "d3ea1e71-93ee-4ca1-8400-da0cc34a771f",
   "metadata": {},
   "source": [
    " Netflix/Amazon/Disney se concentre-t-il davantage sur les séries télévisées que sur les films ces dernières années ?"
   ]
  },
  {
   "cell_type": "code",
   "execution_count": 19,
   "id": "fa4ad18a-cbf7-49c0-b2cb-1ad89be1c387",
   "metadata": {},
   "outputs": [],
   "source": [
    "grouped = amazon_df.groupby(['release_year', 'type']).size().unstack()"
   ]
  },
  {
   "cell_type": "code",
   "execution_count": 20,
   "id": "1f3b4186-37c0-4d56-ac7a-141fd07ebf22",
   "metadata": {},
   "outputs": [
    {
     "data": {
      "text/html": [
       "<div>\n",
       "<style scoped>\n",
       "    .dataframe tbody tr th:only-of-type {\n",
       "        vertical-align: middle;\n",
       "    }\n",
       "\n",
       "    .dataframe tbody tr th {\n",
       "        vertical-align: top;\n",
       "    }\n",
       "\n",
       "    .dataframe thead th {\n",
       "        text-align: right;\n",
       "    }\n",
       "</style>\n",
       "<table border=\"1\" class=\"dataframe\">\n",
       "  <thead>\n",
       "    <tr style=\"text-align: right;\">\n",
       "      <th>type</th>\n",
       "      <th>Movie</th>\n",
       "      <th>TV Show</th>\n",
       "    </tr>\n",
       "    <tr>\n",
       "      <th>release_year</th>\n",
       "      <th></th>\n",
       "      <th></th>\n",
       "    </tr>\n",
       "  </thead>\n",
       "  <tbody>\n",
       "    <tr>\n",
       "      <th>1920</th>\n",
       "      <td>3.0</td>\n",
       "      <td>NaN</td>\n",
       "    </tr>\n",
       "    <tr>\n",
       "      <th>1922</th>\n",
       "      <td>2.0</td>\n",
       "      <td>NaN</td>\n",
       "    </tr>\n",
       "    <tr>\n",
       "      <th>1923</th>\n",
       "      <td>1.0</td>\n",
       "      <td>NaN</td>\n",
       "    </tr>\n",
       "    <tr>\n",
       "      <th>1924</th>\n",
       "      <td>1.0</td>\n",
       "      <td>NaN</td>\n",
       "    </tr>\n",
       "    <tr>\n",
       "      <th>1925</th>\n",
       "      <td>8.0</td>\n",
       "      <td>NaN</td>\n",
       "    </tr>\n",
       "    <tr>\n",
       "      <th>...</th>\n",
       "      <td>...</td>\n",
       "      <td>...</td>\n",
       "    </tr>\n",
       "    <tr>\n",
       "      <th>2017</th>\n",
       "      <td>348.0</td>\n",
       "      <td>102.0</td>\n",
       "    </tr>\n",
       "    <tr>\n",
       "      <th>2018</th>\n",
       "      <td>400.0</td>\n",
       "      <td>140.0</td>\n",
       "    </tr>\n",
       "    <tr>\n",
       "      <th>2019</th>\n",
       "      <td>593.0</td>\n",
       "      <td>142.0</td>\n",
       "    </tr>\n",
       "    <tr>\n",
       "      <th>2020</th>\n",
       "      <td>644.0</td>\n",
       "      <td>194.0</td>\n",
       "    </tr>\n",
       "    <tr>\n",
       "      <th>2021</th>\n",
       "      <td>1002.0</td>\n",
       "      <td>230.0</td>\n",
       "    </tr>\n",
       "  </tbody>\n",
       "</table>\n",
       "<p>100 rows × 2 columns</p>\n",
       "</div>"
      ],
      "text/plain": [
       "type           Movie  TV Show\n",
       "release_year                 \n",
       "1920             3.0      NaN\n",
       "1922             2.0      NaN\n",
       "1923             1.0      NaN\n",
       "1924             1.0      NaN\n",
       "1925             8.0      NaN\n",
       "...              ...      ...\n",
       "2017           348.0    102.0\n",
       "2018           400.0    140.0\n",
       "2019           593.0    142.0\n",
       "2020           644.0    194.0\n",
       "2021          1002.0    230.0\n",
       "\n",
       "[100 rows x 2 columns]"
      ]
     },
     "execution_count": 20,
     "metadata": {},
     "output_type": "execute_result"
    }
   ],
   "source": [
    "grouped"
   ]
  },
  {
   "cell_type": "code",
   "execution_count": 21,
   "id": "7be99b33-2a09-4247-b9d1-e2e482495b92",
   "metadata": {},
   "outputs": [
    {
     "data": {
      "text/html": [
       "<div>\n",
       "<style scoped>\n",
       "    .dataframe tbody tr th:only-of-type {\n",
       "        vertical-align: middle;\n",
       "    }\n",
       "\n",
       "    .dataframe tbody tr th {\n",
       "        vertical-align: top;\n",
       "    }\n",
       "\n",
       "    .dataframe thead th {\n",
       "        text-align: right;\n",
       "    }\n",
       "</style>\n",
       "<table border=\"1\" class=\"dataframe\">\n",
       "  <thead>\n",
       "    <tr style=\"text-align: right;\">\n",
       "      <th>type</th>\n",
       "      <th>Movie</th>\n",
       "      <th>TV Show</th>\n",
       "    </tr>\n",
       "    <tr>\n",
       "      <th>release_year</th>\n",
       "      <th></th>\n",
       "      <th></th>\n",
       "    </tr>\n",
       "  </thead>\n",
       "  <tbody>\n",
       "    <tr>\n",
       "      <th>2016</th>\n",
       "      <td>361.0</td>\n",
       "      <td>82.0</td>\n",
       "    </tr>\n",
       "    <tr>\n",
       "      <th>2017</th>\n",
       "      <td>348.0</td>\n",
       "      <td>102.0</td>\n",
       "    </tr>\n",
       "    <tr>\n",
       "      <th>2018</th>\n",
       "      <td>400.0</td>\n",
       "      <td>140.0</td>\n",
       "    </tr>\n",
       "    <tr>\n",
       "      <th>2019</th>\n",
       "      <td>593.0</td>\n",
       "      <td>142.0</td>\n",
       "    </tr>\n",
       "    <tr>\n",
       "      <th>2020</th>\n",
       "      <td>644.0</td>\n",
       "      <td>194.0</td>\n",
       "    </tr>\n",
       "    <tr>\n",
       "      <th>2021</th>\n",
       "      <td>1002.0</td>\n",
       "      <td>230.0</td>\n",
       "    </tr>\n",
       "  </tbody>\n",
       "</table>\n",
       "</div>"
      ],
      "text/plain": [
       "type           Movie  TV Show\n",
       "release_year                 \n",
       "2016           361.0     82.0\n",
       "2017           348.0    102.0\n",
       "2018           400.0    140.0\n",
       "2019           593.0    142.0\n",
       "2020           644.0    194.0\n",
       "2021          1002.0    230.0"
      ]
     },
     "execution_count": 21,
     "metadata": {},
     "output_type": "execute_result"
    }
   ],
   "source": [
    "df_year=grouped.tail(6)\n",
    "df_year"
   ]
  },
  {
   "cell_type": "code",
   "execution_count": 22,
   "id": "d778402e-1a52-4915-8004-a3bbd72c9248",
   "metadata": {},
   "outputs": [],
   "source": [
    "import pandas as pd\n",
    "import matplotlib.pyplot as plt"
   ]
  },
  {
   "cell_type": "code",
   "execution_count": 25,
   "id": "4fb483ca-26a0-4eaf-94ed-b7c67c44c69a",
   "metadata": {},
   "outputs": [
    {
     "data": {
      "image/png": "[encoded data removed]",
      "text/plain": [
       "<Figure size 800x600 with 1 Axes>"
      ]
     },
     "metadata": {},
     "output_type": "display_data"
    }
   ],
   "source": [
    "df_year.plot(kind='line', figsize=(8,6))\n",
    "plt.title('Number of Amazon titles released by year and type')\n",
    "plt.xlabel('Year')\n",
    "plt.ylabel('Number of titles')\n",
    "plt.show()"
   ]
  },
  {
   "cell_type": "code",
   "execution_count": 28,
   "id": "0125227e-df1d-43c9-8b29-91e15feb879e",
   "metadata": {},
   "outputs": [
    {
     "data": {
      "image/png": "[encoded data removed]",
      "text/plain": [
       "<Figure size 800x600 with 1 Axes>"
      ]
     },
     "metadata": {},
     "output_type": "display_data"
    }
   ],
   "source": [
    "df_year.plot(kind='bar', figsize=(8,6))\n",
    "plt.title('Number of Amazon titles released by year and type')\n",
    "plt.xlabel('Year')\n",
    "plt.ylabel('Number of titles')\n",
    "plt.show()"
   ]
  },
  {
   "cell_type": "code",
   "execution_count": 30,
   "id": "9a6f7595-1b85-463b-8887-22c3bf15f89e",
   "metadata": {},
   "outputs": [
    {
     "data": {
      "image/png": "[encoded data removed]",
      "text/plain": [
       "<Figure size 800x600 with 1 Axes>"
      ]
     },
     "metadata": {},
     "output_type": "display_data"
    }
   ],
   "source": [
    "df_year.plot(kind='barh', figsize=(8,6))\n",
    "plt.title('Number of Amazon titles released by year and type')\n",
    "plt.xlabel('Number of titles')\n",
    "plt.ylabel('years')\n",
    "plt.show()"
   ]
  },
  {
   "cell_type": "code",
   "execution_count": null,
   "id": "fcd11729-a0dc-4f38-83dd-8e34fe0807c6",
   "metadata": {},
   "outputs": [],
   "source": []
  }
 ],
 "metadata": {
  "kernelspec": {
   "display_name": "Python 3 (ipykernel)",
   "language": "python",
   "name": "python3"
  },
  "language_info": {
   "codemirror_mode": {
    "name": "ipython",
    "version": 3
   },
   "file_extension": ".py",
   "mimetype": "text/x-python",
   "name": "python",
   "nbconvert_exporter": "python",
   "pygments_lexer": "ipython3",
   "version": "3.11.7"
  }
 },
 "nbformat": 4,
 "nbformat_minor": 5
}
